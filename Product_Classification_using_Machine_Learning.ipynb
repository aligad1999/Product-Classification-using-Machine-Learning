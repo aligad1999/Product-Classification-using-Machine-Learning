{
  "nbformat": 4,
  "nbformat_minor": 0,
  "metadata": {
    "colab": {
      "provenance": [],
      "authorship_tag": "ABX9TyN1g+1t8JqJTBmKQ3fKBZWa"
    },
    "kernelspec": {
      "name": "python3",
      "display_name": "Python 3"
    },
    "language_info": {
      "name": "python"
    }
  },
  "cells": [
    {
      "cell_type": "code",
      "execution_count": null,
      "metadata": {
        "id": "7-2HeEuBktmc"
      },
      "outputs": [],
      "source": [
        "import pandas as pd\n",
        "from sklearn.feature_extraction.text import TfidfVectorizer\n",
        "from sklearn.svm import SVC\n",
        "from sklearn.model_selection import train_test_split\n",
        "from sklearn.metrics import classification_report\n",
        "\n",
        "# Load dataset into pandas dataframe\n",
        "df = pd.read_csv('product_data.csv')\n",
        "\n",
        "# Preprocess data\n",
        "df['product_name'] = df['product_name'].str.lower()\n",
        "df['product_name'] = df['product_name'].str.replace('[^a-zA-Z\\s]+', '')\n",
        "df['product_name'] = df['product_name'].apply(lambda x: ' '.join([word for word in x.split() if word not in stopwords.words('english')]))\n",
        "\n",
        "# Feature extraction\n",
        "vectorizer = TfidfVectorizer()\n",
        "X = vectorizer.fit_transform(df['product_name'])\n",
        "y = df['category']\n",
        "\n",
        "# Model training\n",
        "X_train, X_test, y_train, y_test = train_test_split(X, y, test_size=0.2)\n",
        "clf = SVC(kernel='linear')\n",
        "clf.fit(X_train, y_train)\n",
        "\n",
        "# Model evaluation\n",
        "y_pred = clf.predict(X_test)\n",
        "print(classification_report(y_test, y_pred))\n",
        "\n",
        "# Prediction\n",
        "new_products = ['QUEEN - ZIPLOC SANDWICHES BAGS - 18*20', 'QUEEN - MEGA 100SANDWICH BAGS MINI - 25*40', 'ALATTAR - FLEURS SHAMIA - 20PC']\n",
        "new_products_features = vectorizer.transform(new_products)\n",
        "new_products_categories = clf.predict(new_products_features)\n",
        "print(new_products_categories)\n"
      ]
    }
  ]
}